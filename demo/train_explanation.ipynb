{
 "cells": [
  {
   "cell_type": "markdown",
   "metadata": {},
   "source": [
    "This notebook aims to provide an overview of the training code, especially to explore the dimensions of the data is it flows through the pipeline. \n",
    "\n",
    "First ensure that the notebook is connected to the conda environment so that all packages can be imported using the commands below: \n",
    "```\n",
    "conda install -c anaconda ipykernel\n",
    "python -m ipykernel install --user --name=<env_name>\n",
    "```"
   ]
  },
  {
   "cell_type": "markdown",
   "metadata": {},
   "source": [
    "`train.py` consists of three main functions:\n",
    "* `run`: creates all the objects and runs the epoch for-loop\n",
    "* `run_epoch`: performs the forward and backwards pass for the entire dataset\n",
    "* `eval_dev`: evaluates the development set(s) on the updated model once per epoch"
   ]
  },
  {
   "cell_type": "markdown",
   "metadata": {},
   "source": [
    "In the `run` function, three main objects are instantiated:\n",
    "* logger\n",
    "* tbX_writer: tensorboardX writer that logs loss, PER, and other information to tensorboard\n",
    "* preproc: preprocessing object\n",
    "* train_ldr: dataloader for training dataset\n",
    "* dev_ldr_dict: diciontary of dataloaders for development datasets\n",
    "* model\n",
    "* optimizer"
   ]
  },
  {
   "cell_type": "code",
   "execution_count": null,
   "metadata": {},
   "outputs": [],
   "source": []
  },
  {
   "cell_type": "code",
   "execution_count": null,
   "metadata": {},
   "outputs": [],
   "source": []
  }
 ],
 "metadata": {
  "kernelspec": {
   "display_name": "awni_env37",
   "language": "python",
   "name": "awni_env37"
  },
  "language_info": {
   "codemirror_mode": {
    "name": "ipython",
    "version": 3
   },
   "file_extension": ".py",
   "mimetype": "text/x-python",
   "name": "python",
   "nbconvert_exporter": "python",
   "pygments_lexer": "ipython3",
   "version": "3.7.5"
  }
 },
 "nbformat": 4,
 "nbformat_minor": 2
}
